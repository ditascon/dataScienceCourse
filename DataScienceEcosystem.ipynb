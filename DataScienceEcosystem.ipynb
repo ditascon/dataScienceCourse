{
 "cells": [
  {
   "cell_type": "markdown",
   "id": "e6d71c6f-3798-45fa-a9d0-221b8003ad69",
   "metadata": {},
   "source": [
    "# Data Science Tools and Ecosystem\n",
    "\n",
    "In this notebook, Data Science Tools and Ecosystem are summarized."
   ]
  },
  {
   "cell_type": "markdown",
   "id": "0a35492d-140a-43ce-a35e-35ff63f2ef34",
   "metadata": {},
   "source": [
    "**Objectives:**\n",
    "* List popular languages for Data Science\n",
    "* List popular libraries for Data Science\n",
    "* Practice with Markdown and Code cells"
   ]
  },
  {
   "cell_type": "markdown",
   "id": "1d8b9d6f-e431-424d-93bf-c5aa5073d4b3",
   "metadata": {},
   "source": [
    "Some of the popular languages that Data Scientists use are:\n",
    "1. Python\n",
    "2. R\n",
    "3. SQL"
   ]
  },
  {
   "cell_type": "markdown",
   "id": "2c64bc0b-faee-4228-a34f-0fd3675d9368",
   "metadata": {},
   "source": [
    "Some of the commonly used libraries used by Data Scientists include:\n",
    "1. Pandas\n",
    "2. NumPy\n",
    "3. Matplotlib"
   ]
  },
  {
   "cell_type": "markdown",
   "id": "0c477981-dacf-430c-998a-01707d140655",
   "metadata": {},
   "source": [
    "| Data Science Tools |\n",
    "| -- |\n",
    "| Jupyter Lab |\n",
    "| Jupiter Lite |\n",
    "| Anaconda |"
   ]
  },
  {
   "cell_type": "markdown",
   "id": "8d4557e2-2b6d-4acb-a9f9-288a237dfadd",
   "metadata": {},
   "source": [
    "### Below are a few examples of evaluating arithmetic expressions in Python"
   ]
  },
  {
   "cell_type": "code",
   "execution_count": 1,
   "id": "5b7e69b4-ecbf-4b23-962c-90c82372f696",
   "metadata": {
    "tags": []
   },
   "outputs": [
    {
     "data": {
      "text/plain": [
       "17"
      ]
     },
     "execution_count": 1,
     "metadata": {},
     "output_type": "execute_result"
    }
   ],
   "source": [
    "#This a simple arithmetic expression to mutiply then add integers\n",
    "(3*4)+5"
   ]
  },
  {
   "cell_type": "code",
   "execution_count": 2,
   "id": "a70cfb86-a007-4db5-b961-9f39f9ab1a9e",
   "metadata": {
    "tags": []
   },
   "outputs": [
    {
     "data": {
      "text/plain": [
       "3.3333333333333335"
      ]
     },
     "execution_count": 2,
     "metadata": {},
     "output_type": "execute_result"
    }
   ],
   "source": [
    "#This will convert 200 minutes to hours by diving by 60\n",
    "200/60"
   ]
  },
  {
   "cell_type": "markdown",
   "id": "256eaa45-0ce4-49c2-8db2-200ff67df32e",
   "metadata": {},
   "source": [
    "## Author\n",
    "Diana Tascón"
   ]
  },
  {
   "cell_type": "code",
   "execution_count": null,
   "id": "55702454-b737-46b5-8a2a-f8e870906c49",
   "metadata": {},
   "outputs": [],
   "source": []
  }
 ],
 "metadata": {
  "kernelspec": {
   "display_name": "Python",
   "language": "python",
   "name": "conda-env-python-py"
  },
  "language_info": {
   "codemirror_mode": {
    "name": "ipython",
    "version": 3
   },
   "file_extension": ".py",
   "mimetype": "text/x-python",
   "name": "python",
   "nbconvert_exporter": "python",
   "pygments_lexer": "ipython3",
   "version": "3.7.12"
  }
 },
 "nbformat": 4,
 "nbformat_minor": 5
}
